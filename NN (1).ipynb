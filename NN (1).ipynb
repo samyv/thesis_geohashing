{
 "cells": [
  {
   "cell_type": "markdown",
   "id": "entire-jacksonville",
   "metadata": {},
   "source": [
    "This notebook describes how a NN was made using adaptive geohashing\n",
    "Created 15/4/21 by Samy Van Vooren"
   ]
  },
  {
   "cell_type": "code",
   "execution_count": 1,
   "id": "solved-wisdom",
   "metadata": {},
   "outputs": [],
   "source": [
    "from pygeo import encode\n",
    "import pandas as pd\n",
    "import numpy  as np\n",
    "import matplotlib.pyplot as plt\n"
   ]
  },
  {
   "cell_type": "code",
   "execution_count": 2,
   "id": "attended-monte",
   "metadata": {},
   "outputs": [
    {
     "name": "stdout",
     "output_type": "stream",
     "text": [
      "['bg' '9c' 'bc' ... 'de' 'de' 'ee']\n",
      "      price  bedrooms  bathrooms  sqft_living  sqft_lot  floors  waterfront  \\\n",
      "0  717000.0         3       1.00         1150      5000     1.0           0   \n",
      "1  203000.0         3       1.75         1190      6000     1.0           0   \n",
      "2  830000.0         4       3.00         2020      6000     1.0           0   \n",
      "3  579000.0         3       2.75         2660    223027     1.0           0   \n",
      "4  420000.0         4       2.75         2400     20000     1.0           0   \n",
      "\n",
      "   view  condition  grade  ...  h409  h410  h411  h412  h413  h414  h415  \\\n",
      "0     0          3      8  ...     0     0     0     0     0     0     0   \n",
      "1     0          3      7  ...     0     0     0     0     0     0     0   \n",
      "2     0          3      8  ...     0     0     0     0     0     0     0   \n",
      "3     0          3      8  ...     0     0     0     0     0     0     0   \n",
      "4     0          3      8  ...     0     0     0     0     0     0     0   \n",
      "\n",
      "   h416  h417  h418  \n",
      "0     0     0     0  \n",
      "1     0     0     0  \n",
      "2     0     0     0  \n",
      "3     0     0     0  \n",
      "4     0     0     0  \n",
      "\n",
      "[5 rows x 435 columns]\n"
     ]
    }
   ],
   "source": [
    "datafile =  r\"data.csv\"\n",
    "df = pd.read_csv(datafile)\n",
    "\n",
    "zero_bathr = df[\"bathrooms\"] == 0\n",
    "zero_bedr = df[\"bedrooms\"] == 0\n",
    "df = df.drop(df[zero_bathr | zero_bedr].index)\n",
    "df = df.drop(['id', 'date'],axis=1)\n",
    "\n",
    "\n",
    "#ADDING THE GEOHASHED\n",
    "from sklearn.preprocessing import LabelEncoder\n",
    "from sklearn.preprocessing import OneHotEncoder\n",
    "from sklearn.preprocessing import StandardScaler\n",
    "\n",
    "padding = 0.0\n",
    "(min_lat, max_lat) = ((1-padding)*df[\"lat\"].min(),(1+padding)*df[\"lat\"].max() )\n",
    "(min_lon, max_lon) = ((1-padding)*df[\"long\"].min(),(1+padding)*df[\"long\"].max() )\n",
    "\n",
    "geohashes = []\n",
    "\n",
    "for row in df.iterrows():\n",
    "    lat = row[1][\"lat\"]\n",
    "    lon = row[1][\"long\"]\n",
    "    string = encode(lat,lon,(min_lat, max_lat),(min_lon, max_lon),precision=2)\n",
    "    geohashes.append(string)\n",
    "\n",
    "#df.insert(len(list(df.columns)),\"geohashes\", geohashes, True) \n",
    "#am_diff_hashes = len(set(geohashes))\n",
    "\n",
    "df = df.drop(['lat', 'long', 'zipcode'],axis=1)\n",
    "values = np.array(geohashes)\n",
    "print(values)\n",
    "# integer encode\n",
    "label_encoder = LabelEncoder()\n",
    "integer_encoded = label_encoder.fit_transform(values)\n",
    "# binary encode\n",
    "onehot_encoder = OneHotEncoder(sparse=False)\n",
    "integer_encoded = integer_encoded.reshape(len(integer_encoded), 1)\n",
    "onehot_encoded = onehot_encoder.fit_transform(integer_encoded)\n",
    "\n",
    "onehot_encoded = onehot_encoded.T\n",
    "for i,col in enumerate(onehot_encoded):\n",
    "    string = \"h\" + str(i)\n",
    "    df[string] = [int(i) for i in col.tolist()]\n",
    "print(df.head())"
   ]
  },
  {
   "cell_type": "code",
   "execution_count": 3,
   "id": "built-poverty",
   "metadata": {},
   "outputs": [
    {
     "name": "stdout",
     "output_type": "stream",
     "text": [
      "[[ 0.69559747  1.46877371  1.98403474 ... -0.00813358 -0.01150299\n",
      "  -0.02152369]\n",
      " [-0.41607892 -0.80873703 -0.81009685 ... -0.00813358 -0.01150299\n",
      "  -0.02152369]\n",
      " [-0.41607892 -0.80873703 -0.78835264 ... -0.00813358 -0.01150299\n",
      "  -0.02152369]\n",
      " ...\n",
      " [ 0.69559747  0.49269768  0.01618331 ... -0.00813358 -0.01150299\n",
      "  -0.02152369]\n",
      " [ 2.91895027  0.167339    0.94031243 ... -0.00813358 -0.01150299\n",
      "  -0.02152369]\n",
      " [ 1.80727387  1.46877371  0.79897504 ... -0.00813358 -0.01150299\n",
      "  -0.02152369]]\n"
     ]
    }
   ],
   "source": [
    "#standardization scaler - fit&transform on train, fit only on test\n",
    "from sklearn.preprocessing import StandardScaler\n",
    "from sklearn.model_selection import train_test_split\n",
    "\n",
    "X = df.iloc[:,1:]\n",
    "y = df.iloc[:,0]\n",
    "\n",
    "X_train, X_test, y_train, y_test = train_test_split(X,y, test_size=0.3, random_state=101)\n",
    "\n",
    "s_scaler = StandardScaler()\n",
    "X_train = s_scaler.fit_transform(X_train.astype(np.float))\n",
    "X_test = s_scaler.transform(X_test.astype(np.float))\n",
    "print(X_test)"
   ]
  },
  {
   "cell_type": "code",
   "execution_count": 5,
   "id": "hundred-generic",
   "metadata": {},
   "outputs": [
    {
     "name": "stdout",
     "output_type": "stream",
     "text": [
      "neurons per layer:  434\n"
     ]
    }
   ],
   "source": [
    "from tensorflow.keras.models import Sequential\n",
    "from tensorflow.keras.layers import Dense, Activation\n",
    "from tensorflow.keras.optimizers import Adam\n",
    "from tensorflow.keras import layers\n",
    "from tensorflow.keras import callbacks\n",
    "\n",
    "neurons_per_layer = int(len(X_train[0]))\n",
    "print(\"neurons per layer: \",neurons_per_layer)\n",
    "model1 = Sequential()\n",
    "model1.add(Dense(neurons_per_layer,activation='relu'))\n",
    "model1.add(layers.Dropout(0.4))\n",
    "model1.add(Dense(neurons_per_layer,activation='relu'))\n",
    "model1.add(layers.Dropout(0.4))\n",
    "model1.add(Dense(neurons_per_layer,activation='relu'))\n",
    "model1.add(layers.Dropout(0.4))\n",
    "model1.add(Dense(neurons_per_layer,activation='relu'))\n",
    "model1.add(Dense(1))\n",
    "model1.compile(optimizer='Adam',loss='mse')\n",
    "\n"
   ]
  },
  {
   "cell_type": "code",
   "execution_count": 6,
   "id": "applied-measure",
   "metadata": {},
   "outputs": [
    {
     "data": {
      "text/plain": [
       "<tensorflow.python.keras.callbacks.History at 0x7ff63857fe90>"
      ]
     },
     "execution_count": 6,
     "metadata": {},
     "output_type": "execute_result"
    }
   ],
   "source": [
    "es_callback = callbacks.EarlyStopping(monitor='val_loss', patience=20)\n",
    "model1.fit(x=X_train,y=y_train,validation_data=(X_test, y_test),\n",
    "          batch_size=128,epochs=400,verbose=0)\n"
   ]
  },
  {
   "cell_type": "code",
   "execution_count": 29,
   "id": "dominant-comment",
   "metadata": {},
   "outputs": [
    {
     "data": {
      "text/plain": [
       "<AxesSubplot:>"
      ]
     },
     "execution_count": 29,
     "metadata": {},
     "output_type": "execute_result"
    },
    {
     "data": {
      "image/png": "[encoded data removed]",
      "text/plain": [
       "<Figure size 864x576 with 1 Axes>"
      ]
     },
     "metadata": {
      "needs_background": "light"
     },
     "output_type": "display_data"
    }
   ],
   "source": [
    "loss_df = pd.DataFrame(model1.history.history)\n",
    "loss_df.plot(figsize=(12,8))\n",
    "#loss_df.to_csv(\"models/geohash/no_latlong_no_zipcodes_g2/history.csv\")"
   ]
  },
  {
   "cell_type": "code",
   "execution_count": 30,
   "id": "considerable-white",
   "metadata": {},
   "outputs": [
    {
     "name": "stdout",
     "output_type": "stream",
     "text": [
      "MAE: 78162.30425461105\n",
      "MSE: 21492687986.472656\n",
      "RMSE: 279.5752211026776\n",
      "VarScore: 0.8483884970402251\n",
      "r2:  0.8482654612296654\n"
     ]
    },
    {
     "data": {
      "text/plain": [
       "[<matplotlib.lines.Line2D at 0x7fcec49c3910>]"
      ]
     },
     "execution_count": 30,
     "metadata": {},
     "output_type": "execute_result"
    },
    {
     "data": {
      "image/png": "[encoded data removed]",
      "text/plain": [
       "<Figure size 720x360 with 1 Axes>"
      ]
     },
     "metadata": {
      "needs_background": "light"
     },
     "output_type": "display_data"
    }
   ],
   "source": [
    "y_pred = model1.predict(X_test)\n",
    "\n",
    "from sklearn import metrics\n",
    "\n",
    "metrics_mae = metrics.mean_absolute_error(y_test, y_pred)\n",
    "metrics_mse = metrics.mean_squared_error(y_test, y_pred)\n",
    "metrics_mae_sqrt = np.sqrt(metrics.mean_absolute_error(y_test, y_pred))\n",
    "metrics_evs =  metrics.explained_variance_score(y_test, y_pred)\n",
    "r2 = metrics.r2_score(y_test, y_pred)\n",
    "print('MAE:', metrics_mae)  \n",
    "print('MSE:', metrics_mse)  \n",
    "print('RMSE:', metrics_mae_sqrt)\n",
    "print('VarScore:',metrics_evs)\n",
    "print('r2: ', r2)\n",
    "# Visualizing Our predictions\n",
    "fig = plt.figure(figsize=(10,5))\n",
    "ax = plt.scatter(y_test,y_pred)\n",
    "\n",
    "# Perfect predictions\n",
    "plt.plot(y_test,y_test,'r')"
   ]
  },
  {
   "cell_type": "code",
   "execution_count": 31,
   "id": "junior-sierra",
   "metadata": {},
   "outputs": [],
   "source": [
    "evaluation_csv = pd.read_csv(\"models/evaluation.csv\")\n",
    "\n",
    "\n",
    "name = 'ngh_4n36_0D'\n",
    "\n",
    "metrics = [name, metrics_mae, metrics_mse, metrics_mae_sqrt, metrics_evs]\n",
    "evaluation_csv.loc[-1] = metrics  # adding a row\n",
    "evaluation_csv.index = evaluation_csv.index + 1  # shifting index\n",
    "evaluation_csv = evaluation_csv.sort_index()  # sorting by index\n",
    "evaluation_csv.sort_values(\"model\")\n",
    "evaluation_csv.to_csv(\"models/evaluation.csv\", index=False)\n"
   ]
  },
  {
   "cell_type": "code",
   "execution_count": 274,
   "id": "worth-quest",
   "metadata": {},
   "outputs": [
    {
     "data": {
      "text/html": [
       "<div>\n",
       "<style scoped>\n",
       "    .dataframe tbody tr th:only-of-type {\n",
       "        vertical-align: middle;\n",
       "    }\n",
       "\n",
       "    .dataframe tbody tr th {\n",
       "        vertical-align: top;\n",
       "    }\n",
       "\n",
       "    .dataframe thead th {\n",
       "        text-align: right;\n",
       "    }\n",
       "</style>\n",
       "<table border=\"1\" class=\"dataframe\">\n",
       "  <thead>\n",
       "    <tr style=\"text-align: right;\">\n",
       "      <th></th>\n",
       "      <th>model</th>\n",
       "      <th>mean_absolute_error</th>\n",
       "      <th>mean_squared_error</th>\n",
       "      <th>mean_absolute_error.1</th>\n",
       "      <th>explained_variance_score</th>\n",
       "    </tr>\n",
       "  </thead>\n",
       "  <tbody>\n",
       "    <tr>\n",
       "      <th>5</th>\n",
       "      <td>gh1_4n20_2D04</td>\n",
       "      <td>108127.010442</td>\n",
       "      <td>3.582990e+10</td>\n",
       "      <td>328.826718</td>\n",
       "      <td>0.767353</td>\n",
       "    </tr>\n",
       "    <tr>\n",
       "      <th>7</th>\n",
       "      <td>gh1_4n41_0D</td>\n",
       "      <td>92312.038888</td>\n",
       "      <td>2.276398e+10</td>\n",
       "      <td>303.828963</td>\n",
       "      <td>0.839291</td>\n",
       "    </tr>\n",
       "    <tr>\n",
       "      <th>6</th>\n",
       "      <td>gh1_4n41_2D04</td>\n",
       "      <td>98429.173037</td>\n",
       "      <td>2.863333e+10</td>\n",
       "      <td>313.734240</td>\n",
       "      <td>0.801210</td>\n",
       "    </tr>\n",
       "    <tr>\n",
       "      <th>8</th>\n",
       "      <td>gh1_4n82_0D</td>\n",
       "      <td>92077.471715</td>\n",
       "      <td>2.296784e+10</td>\n",
       "      <td>303.442699</td>\n",
       "      <td>0.837936</td>\n",
       "    </tr>\n",
       "    <tr>\n",
       "      <th>9</th>\n",
       "      <td>gh1_4n82_2D04</td>\n",
       "      <td>93825.845342</td>\n",
       "      <td>2.533949e+10</td>\n",
       "      <td>306.310048</td>\n",
       "      <td>0.822925</td>\n",
       "    </tr>\n",
       "    <tr>\n",
       "      <th>13</th>\n",
       "      <td>gh2_4n217_0D</td>\n",
       "      <td>72759.328589</td>\n",
       "      <td>1.614533e+10</td>\n",
       "      <td>269.739372</td>\n",
       "      <td>0.886434</td>\n",
       "    </tr>\n",
       "    <tr>\n",
       "      <th>12</th>\n",
       "      <td>gh2_4n217_2D04</td>\n",
       "      <td>72900.006841</td>\n",
       "      <td>1.638634e+10</td>\n",
       "      <td>270.000013</td>\n",
       "      <td>0.886287</td>\n",
       "    </tr>\n",
       "    <tr>\n",
       "      <th>4</th>\n",
       "      <td>gh2_4n217_3D04</td>\n",
       "      <td>72540.637266</td>\n",
       "      <td>1.599989e+10</td>\n",
       "      <td>269.333691</td>\n",
       "      <td>0.887315</td>\n",
       "    </tr>\n",
       "    <tr>\n",
       "      <th>10</th>\n",
       "      <td>gh2_4n434_0D</td>\n",
       "      <td>73380.181342</td>\n",
       "      <td>1.691260e+10</td>\n",
       "      <td>270.887765</td>\n",
       "      <td>0.881944</td>\n",
       "    </tr>\n",
       "    <tr>\n",
       "      <th>11</th>\n",
       "      <td>gh2_4n434_2D04</td>\n",
       "      <td>73012.213477</td>\n",
       "      <td>1.593602e+10</td>\n",
       "      <td>270.207723</td>\n",
       "      <td>0.888847</td>\n",
       "    </tr>\n",
       "    <tr>\n",
       "      <th>2</th>\n",
       "      <td>ngh_4n18_0D</td>\n",
       "      <td>87223.618597</td>\n",
       "      <td>2.242733e+10</td>\n",
       "      <td>295.336450</td>\n",
       "      <td>0.841842</td>\n",
       "    </tr>\n",
       "    <tr>\n",
       "      <th>3</th>\n",
       "      <td>ngh_4n18_3D04</td>\n",
       "      <td>123656.711991</td>\n",
       "      <td>4.340344e+10</td>\n",
       "      <td>351.648563</td>\n",
       "      <td>0.733545</td>\n",
       "    </tr>\n",
       "    <tr>\n",
       "      <th>0</th>\n",
       "      <td>ngh_4n36_0D</td>\n",
       "      <td>97766.696493</td>\n",
       "      <td>2.545705e+10</td>\n",
       "      <td>312.676664</td>\n",
       "      <td>0.820506</td>\n",
       "    </tr>\n",
       "    <tr>\n",
       "      <th>1</th>\n",
       "      <td>ngh_4n36_0D</td>\n",
       "      <td>97766.696493</td>\n",
       "      <td>2.545705e+10</td>\n",
       "      <td>312.676664</td>\n",
       "      <td>0.820506</td>\n",
       "    </tr>\n",
       "  </tbody>\n",
       "</table>\n",
       "</div>"
      ],
      "text/plain": [
       "             model  mean_absolute_error  mean_squared_error  \\\n",
       "5    gh1_4n20_2D04        108127.010442        3.582990e+10   \n",
       "7      gh1_4n41_0D         92312.038888        2.276398e+10   \n",
       "6    gh1_4n41_2D04         98429.173037        2.863333e+10   \n",
       "8      gh1_4n82_0D         92077.471715        2.296784e+10   \n",
       "9    gh1_4n82_2D04         93825.845342        2.533949e+10   \n",
       "13    gh2_4n217_0D         72759.328589        1.614533e+10   \n",
       "12  gh2_4n217_2D04         72900.006841        1.638634e+10   \n",
       "4   gh2_4n217_3D04         72540.637266        1.599989e+10   \n",
       "10    gh2_4n434_0D         73380.181342        1.691260e+10   \n",
       "11  gh2_4n434_2D04         73012.213477        1.593602e+10   \n",
       "2      ngh_4n18_0D         87223.618597        2.242733e+10   \n",
       "3    ngh_4n18_3D04        123656.711991        4.340344e+10   \n",
       "0      ngh_4n36_0D         97766.696493        2.545705e+10   \n",
       "1      ngh_4n36_0D         97766.696493        2.545705e+10   \n",
       "\n",
       "    mean_absolute_error.1  explained_variance_score  \n",
       "5              328.826718                  0.767353  \n",
       "7              303.828963                  0.839291  \n",
       "6              313.734240                  0.801210  \n",
       "8              303.442699                  0.837936  \n",
       "9              306.310048                  0.822925  \n",
       "13             269.739372                  0.886434  \n",
       "12             270.000013                  0.886287  \n",
       "4              269.333691                  0.887315  \n",
       "10             270.887765                  0.881944  \n",
       "11             270.207723                  0.888847  \n",
       "2              295.336450                  0.841842  \n",
       "3              351.648563                  0.733545  \n",
       "0              312.676664                  0.820506  \n",
       "1              312.676664                  0.820506  "
      ]
     },
     "execution_count": 274,
     "metadata": {},
     "output_type": "execute_result"
    }
   ],
   "source": [
    "evaluation_csv.sort_values(\"model\")"
   ]
  }
 ],
 "metadata": {
  "kernelspec": {
   "display_name": "Python 3",
   "language": "python",
   "name": "python3"
  },
  "language_info": {
   "codemirror_mode": {
    "name": "ipython",
    "version": 3
   },
   "file_extension": ".py",
   "mimetype": "text/x-python",
   "name": "python",
   "nbconvert_exporter": "python",
   "pygments_lexer": "ipython3",
   "version": "3.7.10"
  }
 },
 "nbformat": 4,
 "nbformat_minor": 5
}
